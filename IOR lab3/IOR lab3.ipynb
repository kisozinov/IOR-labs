{
 "cells": [
  {
   "cell_type": "code",
   "execution_count": 1,
   "id": "7022e191",
   "metadata": {},
   "outputs": [],
   "source": [
    "import random\n",
    "import numpy as np"
   ]
  },
  {
   "cell_type": "code",
   "execution_count": 4,
   "id": "800e877f",
   "metadata": {},
   "outputs": [],
   "source": [
    "def genetic_backpack(N, max_capacity, w, c):\n",
    "    n_chromo = 4\n",
    "    dna = np.zeros(N*n_chromo).reshape(n_chromo, N)\n",
    "    # генерируем хромосомы\n",
    "    for i in range(n_chromo):\n",
    "        for j in range(N):\n",
    "            dna[i][j] = random.randint(0,1)\n",
    "    # Считаем вес и стоимость\n",
    "    total_chromo = []\n",
    "    for i in range(n_chromo):\n",
    "        temp_w = 0\n",
    "        temp_p = 0\n",
    "        for j in range(N):\n",
    "            if dna[i][j]:\n",
    "                temp_w += w[j]\n",
    "                temp_p += c[j]\n",
    "        total_chromo.append((temp_w, temp_p))\n",
    "    # Сортируем\n",
    "    total_chromo = sorted(total_chromo, key=lambda x: x[1], reverse=True)\n",
    "    print(total_chromo)\n",
    "    return"
   ]
  },
  {
   "cell_type": "code",
   "execution_count": 5,
   "id": "319335ca",
   "metadata": {},
   "outputs": [
    {
     "name": "stdout",
     "output_type": "stream",
     "text": [
      "[(273, 395), (312, 332), (265, 305), (272, 269)]\n"
     ]
    }
   ],
   "source": [
    "W = [23, 31, 29, 44, 53, 38, 63, 85, 89, 82]\n",
    "C = [92, 57, 49, 68, 60, 43, 67, 84, 87, 72]\n",
    "#items, cap, profit = genetic_backpack(10, 165, W, C)\n",
    "genetic_backpack(10, 165, W, C)"
   ]
  },
  {
   "cell_type": "code",
   "execution_count": null,
   "id": "4a647cc5",
   "metadata": {},
   "outputs": [],
   "source": [
    "def get_staticstics_backpack(algorithm):\n",
    "    \n",
    "    filenames = os.listdir(str(os.getcwd() + '\\\\benchmarks'))\n",
    "    for filename in filenames:\n",
    "        print(filename, '\\n')\n",
    "        with open(os.getcwd() + '\\\\benchmarks\\\\' + filename, 'r', encoding='utf-8') as f:\n",
    "            N = int(f.readline())\n",
    "            max_capacity = int(f.readline())\n",
    "            w = f.readline().replace(\"\\n\", \"\").split(' ')\n",
    "            c = f.readline().replace(\"\\n\", \"\").split(' ')\n",
    "            for i in range(len(w)):\n",
    "                w[i] = int(w[i])\n",
    "            for i in range(len(c)):\n",
    "                c[i] = int(c[i])\n",
    "            times = []\n",
    "            for i in range(10):\n",
    "                items, cap, profit, t, d = algorithm(N, max_capacity, w, c)\n",
    "                times.append(t)\n",
    "            items, cap, profit, t, d = algorithm(N, max_capacity, w, c)\n",
    "            print('Items: ', items)\n",
    "            print('Final capacity: ',  cap)\n",
    "            print('Profit: ', profit)\n",
    "            print('Average working time: ', \"{0:.3f}\".format(mean(times)), 'ms')\n",
    "            print('Interim solutions: ', d, '\\n\\n')"
   ]
  }
 ],
 "metadata": {
  "kernelspec": {
   "display_name": "Python 3 (ipykernel)",
   "language": "python",
   "name": "python3"
  },
  "language_info": {
   "codemirror_mode": {
    "name": "ipython",
    "version": 3
   },
   "file_extension": ".py",
   "mimetype": "text/x-python",
   "name": "python",
   "nbconvert_exporter": "python",
   "pygments_lexer": "ipython3",
   "version": "3.9.7"
  }
 },
 "nbformat": 4,
 "nbformat_minor": 5
}
