{
 "cells": [
  {
   "cell_type": "markdown",
   "id": "e5d5ec52",
   "metadata": {},
   "source": [
    "# Лабораторная работа №1"
   ]
  },
  {
   "cell_type": "markdown",
   "id": "579490fb",
   "metadata": {},
   "source": [
    "Выполнили студенты 19ПМИ-2: Созинов Кирилл, Хорев Егор, Назаров Вячеслав"
   ]
  },
  {
   "cell_type": "code",
   "execution_count": 1,
   "id": "c63286bb",
   "metadata": {},
   "outputs": [],
   "source": [
    "import numpy as np\n",
    "import time\n",
    "import os\n",
    "from statistics import mean"
   ]
  },
  {
   "cell_type": "markdown",
   "id": "7b970c92",
   "metadata": {},
   "source": [
    "### Наивный алгоритм"
   ]
  },
  {
   "cell_type": "code",
   "execution_count": 2,
   "id": "c9d54196",
   "metadata": {},
   "outputs": [],
   "source": [
    "def NAI(haystack, needle):\n",
    "    start = time.time()\n",
    "    index = -1\n",
    "    operations = 0\n",
    "    ind = 0\n",
    "    n = len(haystack)\n",
    "    m = len(needle)\n",
    "    for i in range(0,n-m+1):\n",
    "        for j in range(0,m):\n",
    "            operations += 1\n",
    "            if needle[j]!=haystack[i+j]:\n",
    "                break\n",
    "            if j==m-1:\n",
    "                ind = i\n",
    "                wtime = (time.time() - start) * 10**3\n",
    "                return ind, wtime, operations"
   ]
  },
  {
   "cell_type": "markdown",
   "id": "6959e0d1",
   "metadata": {},
   "source": [
    "### Алгоритм Рабина-Карпа"
   ]
  },
  {
   "cell_type": "code",
   "execution_count": 17,
   "id": "4fbafbda",
   "metadata": {},
   "outputs": [
    {
     "name": "stdout",
     "output_type": "stream",
     "text": [
      "(15, 0.0, 17)\n"
     ]
    }
   ],
   "source": [
    "def makehash(word, q):\n",
    "    hashdict={}\n",
    "    Hashh = []\n",
    "    Hashfunc=0\n",
    "    #symboldict={'a': 1, 'b': 2, 'c': 3, 'd':4, 'f':5, 'g':7, 'h':8, 'i':9, 'j':10, 'k':11, 'l':12, 'm':13, 'n':14, 'o':15, 'p':16, 'q':17, 'r':18, 's':19, 't':20, 'u':21, 'v':22, 'w':23, 'x':24, 'y':25, 'z' :26, ' ': 27, 'e':28, '\\n' : 29}\n",
    "    for j in range(len(word)):\n",
    "        Hashh.append(ord(word[j]))\n",
    "    for i in range(len(Hashh)):\n",
    "        Hashfunc += (int(Hashh[j])*(q**j))\n",
    "    return Hashfunc\n",
    "\n",
    "\n",
    "def RK(string, pattern):\n",
    "\n",
    "    q=len(string)\n",
    "    operations = 0\n",
    "    start = time.time()\n",
    "    n, m = len(string), len(pattern)\n",
    "    hashpattern = makehash(pattern, q);\n",
    "    for i in range(n-m+1):\n",
    "        operations+=1\n",
    "        hashstring = makehash(string[i:i+m], q)\n",
    "        #print(hashstring, hashpattern, i)\n",
    "        if hashstring == hashpattern:\n",
    "            operations+=1\n",
    "            if string[i:i+m] == pattern:\n",
    "                wtime = (time.time() - start) * 10**3\n",
    "                return i, wtime, operations\n",
    "            else: \n",
    "                return -1\n",
    "string = \"my names is vv putin\"\n",
    "print(RK(string, \"putin\"))"
   ]
  },
  {
   "cell_type": "markdown",
   "id": "30f0946c",
   "metadata": {},
   "source": [
    "###  Алгоритм Кнута–Морриса-Пратта"
   ]
  },
  {
   "cell_type": "code",
   "execution_count": 31,
   "id": "d5581237",
   "metadata": {},
   "outputs": [],
   "source": [
    "def KMP(haystack, needle):\n",
    "    start = time.time()\n",
    "    def prefix_function(S):\n",
    "        nonlocal operations\n",
    "        Pf = np.zeros(len(S))\n",
    "        k = 0\n",
    "        flag = False\n",
    "        for i in range(1, len(S)):\n",
    "            k = int(Pf[i-1])\n",
    "            while S[i] != S[k]:\n",
    "                operations += 1\n",
    "                if k == 0:\n",
    "                    Pf[i] = 0\n",
    "                    flag = True\n",
    "                    break\n",
    "                else:\n",
    "                    k = int(Pf[k-1])\n",
    "            if not flag:\n",
    "                Pf[i] = k + 1\n",
    "            flag = False\n",
    "        #print(Pf)\n",
    "        return Pf\n",
    "    \n",
    "    index = -1\n",
    "    operations = 0\n",
    "    F, k, i = prefix_function(needle), 0, 0\n",
    "    for i in range(len(haystack)):\n",
    "        while haystack[i] != needle[k] and k > 0:\n",
    "            operations += 1\n",
    "            k = int(F[k-1])\n",
    "        if haystack[i] == needle[k]:\n",
    "            k += 1\n",
    "        operations += 1\n",
    "        if k == len(needle):\n",
    "            wtime = (time.time() - start) * 10**3\n",
    "            #print('Working time: ', (time.time() - start) * 10**3, 'ms')\n",
    "            #print('Total operations: ', operations)\n",
    "            return i - len(needle) + 1, wtime, operations\n",
    "    #print('Working time: ', (time.time() - start)*1000, 'ms')\n",
    "    #print('Total operations: ', operations)\n",
    "    return index, wtime, operations"
   ]
  },
  {
   "cell_type": "code",
   "execution_count": 5,
   "id": "29523ae7",
   "metadata": {},
   "outputs": [],
   "source": [
    "def get_staticstics(algorithm):\n",
    "    '''\n",
    "        На вход подается функция, выполняющая поиск подстроки в строке:\n",
    "    -Функция должна возвращать индекс, время работы и количество операций\n",
    "        В результате работы печатается статистика работы на наборе данных \n",
    "    '''\n",
    "    filenames = os.listdir(str(os.getcwd() + '\\\\benchmarks'))\n",
    "    for filename in filenames:\n",
    "        if filename[:5] == 'bad_t':\n",
    "            pattern = filenames[filenames.index('bad_w_' + filename[6] + '.txt')]\n",
    "            print(filename, pattern)\n",
    "            with open(os.getcwd() + '\\\\benchmarks\\\\' + filename, 'r', encoding='utf-8') as f1, open(os.getcwd() + '\\\\benchmarks\\\\' + pattern, 'r', encoding='utf-8') as f2:\n",
    "                haystack, needle = f1.read(), f2.read()\n",
    "                times = []\n",
    "                for i in range(24):\n",
    "                    idx, t, o = algorithm(haystack,needle)\n",
    "                    times.append(t)\n",
    "                idx, t, o = algorithm(haystack,needle)\n",
    "                print('Index: ',idx)\n",
    "                print('Average working time: ', \"{0:.3f}\".format(mean(times)), 'ms')\n",
    "                print('Operations: ', o, '\\n\\n')\n",
    "        if filename[:6] == 'good_t':\n",
    "            pattern = filenames[filenames.index('good_w_' + filename[7] + '.txt')]\n",
    "            print(filename, pattern)\n",
    "            with open(os.getcwd() + '\\\\benchmarks\\\\' + filename, 'r', encoding='utf-8') as f1, open(os.getcwd() + '\\\\benchmarks\\\\' + pattern, 'r', encoding='utf-8') as f2:\n",
    "                haystack, needle = f1.read(), f2.read()\n",
    "                times = []\n",
    "                for i in range(24):\n",
    "                    idx, t, o = algorithm(haystack,needle)\n",
    "                    times.append(t)\n",
    "                idx, t, o = algorithm(haystack,needle)\n",
    "                print('Index: ',idx)\n",
    "                print('Average working time: ', \"{0:.3f}\".format(mean(times)), 'ms')\n",
    "                print('Operations: ', o, '\\n\\n')"
   ]
  },
  {
   "cell_type": "code",
   "execution_count": 6,
   "id": "92a4808c",
   "metadata": {},
   "outputs": [
    {
     "name": "stdout",
     "output_type": "stream",
     "text": [
      "bad_t_1.txt bad_w_1.txt\n",
      "Index:  8\n",
      "Average working time:  0.000 ms\n",
      "Operations:  18 \n",
      "\n",
      "\n",
      "bad_t_2.txt bad_w_2.txt\n",
      "Index:  90\n",
      "Average working time:  0.125 ms\n",
      "Operations:  910 \n",
      "\n",
      "\n",
      "bad_t_3.txt bad_w_3.txt\n",
      "Index:  900\n",
      "Average working time:  11.917 ms\n",
      "Operations:  90100 \n",
      "\n",
      "\n",
      "bad_t_4.txt bad_w_4.txt\n",
      "Index:  4000\n",
      "Average working time:  628.417 ms\n",
      "Operations:  4001000 \n",
      "\n",
      "\n",
      "good_t_1.txt good_w_1.txt\n",
      "Index:  599\n",
      "Average working time:  0.208 ms\n",
      "Operations:  633 \n",
      "\n",
      "\n",
      "good_t_2.txt good_w_2.txt\n",
      "Index:  610\n",
      "Average working time:  0.250 ms\n",
      "Operations:  695 \n",
      "\n",
      "\n",
      "good_t_3.txt good_w_3.txt\n",
      "Index:  1629\n",
      "Average working time:  0.708 ms\n",
      "Operations:  2074 \n",
      "\n",
      "\n",
      "good_t_4.txt good_w_4.txt\n",
      "Index:  9522\n",
      "Average working time:  3.500 ms\n",
      "Operations:  9614 \n",
      "\n",
      "\n"
     ]
    }
   ],
   "source": [
    "get_staticstics(NAI)"
   ]
  },
  {
   "cell_type": "code",
   "execution_count": 18,
   "id": "0e432d50",
   "metadata": {},
   "outputs": [
    {
     "name": "stdout",
     "output_type": "stream",
     "text": [
      "bad_t_1.txt bad_w_1.txt\n",
      "Index:  8\n",
      "Average working time:  0.042 ms\n",
      "Operations:  10 \n",
      "\n",
      "\n",
      "bad_t_2.txt bad_w_2.txt\n",
      "Index:  90\n",
      "Average working time:  0.500 ms\n",
      "Operations:  92 \n",
      "\n",
      "\n",
      "bad_t_3.txt bad_w_3.txt\n",
      "Index:  900\n",
      "Average working time:  91.625 ms\n",
      "Operations:  902 \n",
      "\n",
      "\n",
      "bad_t_4.txt bad_w_4.txt\n"
     ]
    },
    {
     "ename": "KeyboardInterrupt",
     "evalue": "",
     "output_type": "error",
     "traceback": [
      "\u001b[1;31m---------------------------------------------------------------------------\u001b[0m",
      "\u001b[1;31mKeyboardInterrupt\u001b[0m                         Traceback (most recent call last)",
      "\u001b[1;32m~\\AppData\\Local\\Temp/ipykernel_5744/2389266643.py\u001b[0m in \u001b[0;36m<module>\u001b[1;34m\u001b[0m\n\u001b[1;32m----> 1\u001b[1;33m \u001b[0mget_staticstics\u001b[0m\u001b[1;33m(\u001b[0m\u001b[0mRK\u001b[0m\u001b[1;33m)\u001b[0m\u001b[1;33m\u001b[0m\u001b[1;33m\u001b[0m\u001b[0m\n\u001b[0m",
      "\u001b[1;32m~\\AppData\\Local\\Temp/ipykernel_5744/4011864350.py\u001b[0m in \u001b[0;36mget_staticstics\u001b[1;34m(algorithm)\u001b[0m\n\u001b[0;32m     14\u001b[0m                 \u001b[0mtimes\u001b[0m \u001b[1;33m=\u001b[0m \u001b[1;33m[\u001b[0m\u001b[1;33m]\u001b[0m\u001b[1;33m\u001b[0m\u001b[1;33m\u001b[0m\u001b[0m\n\u001b[0;32m     15\u001b[0m                 \u001b[1;32mfor\u001b[0m \u001b[0mi\u001b[0m \u001b[1;32min\u001b[0m \u001b[0mrange\u001b[0m\u001b[1;33m(\u001b[0m\u001b[1;36m24\u001b[0m\u001b[1;33m)\u001b[0m\u001b[1;33m:\u001b[0m\u001b[1;33m\u001b[0m\u001b[1;33m\u001b[0m\u001b[0m\n\u001b[1;32m---> 16\u001b[1;33m                     \u001b[0midx\u001b[0m\u001b[1;33m,\u001b[0m \u001b[0mt\u001b[0m\u001b[1;33m,\u001b[0m \u001b[0mo\u001b[0m \u001b[1;33m=\u001b[0m \u001b[0malgorithm\u001b[0m\u001b[1;33m(\u001b[0m\u001b[0mhaystack\u001b[0m\u001b[1;33m,\u001b[0m\u001b[0mneedle\u001b[0m\u001b[1;33m)\u001b[0m\u001b[1;33m\u001b[0m\u001b[1;33m\u001b[0m\u001b[0m\n\u001b[0m\u001b[0;32m     17\u001b[0m                     \u001b[0mtimes\u001b[0m\u001b[1;33m.\u001b[0m\u001b[0mappend\u001b[0m\u001b[1;33m(\u001b[0m\u001b[0mt\u001b[0m\u001b[1;33m)\u001b[0m\u001b[1;33m\u001b[0m\u001b[1;33m\u001b[0m\u001b[0m\n\u001b[0;32m     18\u001b[0m                 \u001b[0midx\u001b[0m\u001b[1;33m,\u001b[0m \u001b[0mt\u001b[0m\u001b[1;33m,\u001b[0m \u001b[0mo\u001b[0m \u001b[1;33m=\u001b[0m \u001b[0malgorithm\u001b[0m\u001b[1;33m(\u001b[0m\u001b[0mhaystack\u001b[0m\u001b[1;33m,\u001b[0m\u001b[0mneedle\u001b[0m\u001b[1;33m)\u001b[0m\u001b[1;33m\u001b[0m\u001b[1;33m\u001b[0m\u001b[0m\n",
      "\u001b[1;32m~\\AppData\\Local\\Temp/ipykernel_5744/3674041630.py\u001b[0m in \u001b[0;36mRK\u001b[1;34m(string, pattern)\u001b[0m\n\u001b[0;32m     20\u001b[0m     \u001b[1;32mfor\u001b[0m \u001b[0mi\u001b[0m \u001b[1;32min\u001b[0m \u001b[0mrange\u001b[0m\u001b[1;33m(\u001b[0m\u001b[0mn\u001b[0m\u001b[1;33m-\u001b[0m\u001b[0mm\u001b[0m\u001b[1;33m+\u001b[0m\u001b[1;36m1\u001b[0m\u001b[1;33m)\u001b[0m\u001b[1;33m:\u001b[0m\u001b[1;33m\u001b[0m\u001b[1;33m\u001b[0m\u001b[0m\n\u001b[0;32m     21\u001b[0m         \u001b[0moperations\u001b[0m\u001b[1;33m+=\u001b[0m\u001b[1;36m1\u001b[0m\u001b[1;33m\u001b[0m\u001b[1;33m\u001b[0m\u001b[0m\n\u001b[1;32m---> 22\u001b[1;33m         \u001b[0mhashstring\u001b[0m \u001b[1;33m=\u001b[0m \u001b[0mmakehash\u001b[0m\u001b[1;33m(\u001b[0m\u001b[0mstring\u001b[0m\u001b[1;33m[\u001b[0m\u001b[0mi\u001b[0m\u001b[1;33m:\u001b[0m\u001b[0mi\u001b[0m\u001b[1;33m+\u001b[0m\u001b[0mm\u001b[0m\u001b[1;33m]\u001b[0m\u001b[1;33m,\u001b[0m \u001b[0mq\u001b[0m\u001b[1;33m)\u001b[0m\u001b[1;33m\u001b[0m\u001b[1;33m\u001b[0m\u001b[0m\n\u001b[0m\u001b[0;32m     23\u001b[0m         \u001b[1;31m#print(hashstring, hashpattern, i)\u001b[0m\u001b[1;33m\u001b[0m\u001b[1;33m\u001b[0m\u001b[0m\n\u001b[0;32m     24\u001b[0m         \u001b[1;32mif\u001b[0m \u001b[0mhashstring\u001b[0m \u001b[1;33m==\u001b[0m \u001b[0mhashpattern\u001b[0m\u001b[1;33m:\u001b[0m\u001b[1;33m\u001b[0m\u001b[1;33m\u001b[0m\u001b[0m\n",
      "\u001b[1;32m~\\AppData\\Local\\Temp/ipykernel_5744/3674041630.py\u001b[0m in \u001b[0;36mmakehash\u001b[1;34m(word, q)\u001b[0m\n\u001b[0;32m      7\u001b[0m         \u001b[0mHashh\u001b[0m\u001b[1;33m.\u001b[0m\u001b[0mappend\u001b[0m\u001b[1;33m(\u001b[0m\u001b[0mord\u001b[0m\u001b[1;33m(\u001b[0m\u001b[0mword\u001b[0m\u001b[1;33m[\u001b[0m\u001b[0mj\u001b[0m\u001b[1;33m]\u001b[0m\u001b[1;33m)\u001b[0m\u001b[1;33m)\u001b[0m\u001b[1;33m\u001b[0m\u001b[1;33m\u001b[0m\u001b[0m\n\u001b[0;32m      8\u001b[0m     \u001b[1;32mfor\u001b[0m \u001b[0mi\u001b[0m \u001b[1;32min\u001b[0m \u001b[0mrange\u001b[0m\u001b[1;33m(\u001b[0m\u001b[0mlen\u001b[0m\u001b[1;33m(\u001b[0m\u001b[0mHashh\u001b[0m\u001b[1;33m)\u001b[0m\u001b[1;33m)\u001b[0m\u001b[1;33m:\u001b[0m\u001b[1;33m\u001b[0m\u001b[1;33m\u001b[0m\u001b[0m\n\u001b[1;32m----> 9\u001b[1;33m         \u001b[0mHashfunc\u001b[0m \u001b[1;33m+=\u001b[0m \u001b[1;33m(\u001b[0m\u001b[0mint\u001b[0m\u001b[1;33m(\u001b[0m\u001b[0mHashh\u001b[0m\u001b[1;33m[\u001b[0m\u001b[0mj\u001b[0m\u001b[1;33m]\u001b[0m\u001b[1;33m)\u001b[0m\u001b[1;33m*\u001b[0m\u001b[1;33m(\u001b[0m\u001b[0mq\u001b[0m\u001b[1;33m**\u001b[0m\u001b[0mj\u001b[0m\u001b[1;33m)\u001b[0m\u001b[1;33m)\u001b[0m\u001b[1;33m\u001b[0m\u001b[1;33m\u001b[0m\u001b[0m\n\u001b[0m\u001b[0;32m     10\u001b[0m     \u001b[1;32mreturn\u001b[0m \u001b[0mHashfunc\u001b[0m\u001b[1;33m\u001b[0m\u001b[1;33m\u001b[0m\u001b[0m\n\u001b[0;32m     11\u001b[0m \u001b[1;33m\u001b[0m\u001b[0m\n",
      "\u001b[1;31mKeyboardInterrupt\u001b[0m: "
     ]
    }
   ],
   "source": [
    "get_staticstics(RK)"
   ]
  },
  {
   "cell_type": "code",
   "execution_count": 33,
   "id": "b8427d34",
   "metadata": {},
   "outputs": [
    {
     "name": "stdout",
     "output_type": "stream",
     "text": [
      "bad_t_1.txt bad_w_1.txt\n",
      "Index:  8\n",
      "Average working time:  0.000 ms\n",
      "Operations:  19 \n",
      "\n",
      "\n",
      "bad_t_2.txt bad_w_2.txt\n",
      "Index:  90\n",
      "Average working time:  0.083 ms\n",
      "Operations:  199 \n",
      "\n",
      "\n",
      "bad_t_3.txt bad_w_3.txt\n",
      "Index:  900\n",
      "Average working time:  0.542 ms\n",
      "Operations:  1999 \n",
      "\n",
      "\n",
      "bad_t_4.txt bad_w_4.txt\n",
      "Index:  4000\n",
      "Average working time:  3.208 ms\n",
      "Operations:  9999 \n",
      "\n",
      "\n",
      "good_t_1.txt good_w_1.txt\n",
      "Index:  599\n",
      "Average working time:  0.250 ms\n",
      "Operations:  649 \n",
      "\n",
      "\n",
      "good_t_2.txt good_w_2.txt\n",
      "Index:  610\n",
      "Average working time:  0.292 ms\n",
      "Operations:  779 \n",
      "\n",
      "\n",
      "good_t_3.txt good_w_3.txt\n",
      "Index:  1629\n",
      "Average working time:  0.917 ms\n",
      "Operations:  2445 \n",
      "\n",
      "\n",
      "good_t_4.txt good_w_4.txt\n",
      "Index:  9522\n",
      "Average working time:  3.333 ms\n",
      "Operations:  9705 \n",
      "\n",
      "\n"
     ]
    }
   ],
   "source": [
    "get_staticstics(KMP)"
   ]
  },
  {
   "cell_type": "code",
   "execution_count": 26,
   "id": "0bf11349",
   "metadata": {},
   "outputs": [
    {
     "data": {
      "text/plain": [
       "[0, 1, 0, 1, 2, 2, 3]"
      ]
     },
     "execution_count": 26,
     "metadata": {},
     "output_type": "execute_result"
    }
   ],
   "source": [
    "def prefix(s):\n",
    "    v = [0]*len(s)\n",
    "    for i in range(1,len(s)):\n",
    "        k = v[i-1]\n",
    "        while k > 0 and s[k] != s[i]:\n",
    "            k = v[k-1]\n",
    "        if s[k] == s[i]:\n",
    "            k = k + 1\n",
    "        v[i] = k\n",
    "    return v\n",
    "prefix('aabaaab')"
   ]
  }
 ],
 "metadata": {
  "kernelspec": {
   "display_name": "Python 3 (ipykernel)",
   "language": "python",
   "name": "python3"
  },
  "language_info": {
   "codemirror_mode": {
    "name": "ipython",
    "version": 3
   },
   "file_extension": ".py",
   "mimetype": "text/x-python",
   "name": "python",
   "nbconvert_exporter": "python",
   "pygments_lexer": "ipython3",
   "version": "3.9.7"
  }
 },
 "nbformat": 4,
 "nbformat_minor": 5
}
